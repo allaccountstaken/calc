{
 "cells": [
  {
   "cell_type": "markdown",
   "metadata": {},
   "source": [
    "## Fining the slope of tangent"
   ]
  },
  {
   "cell_type": "code",
   "execution_count": 83,
   "metadata": {},
   "outputs": [
    {
     "name": "stdout",
     "output_type": "stream",
     "text": [
      "given x  6.5       slope was: 0.585786\n",
      "given x  6.9       slope was: 0.513167\n",
      "given x  6.99       slope was: 0.501256\n",
      "given x  6.999       slope was: 0.500125\n",
      "given x  7.5       slope was: 0.449490\n",
      "given x  7.1       slope was: 0.488088\n",
      "given x  7.01       slope was: 0.498756\n",
      "given x  7.001       slope was: 0.499875\n"
     ]
    }
   ],
   "source": [
    "inputs = [6.5, 6.9, 6.99, 6.999, 7.5, 7.1, 7.01, 7.001]\n",
    "for i in range(len(inputs)):\n",
    "    x = inputs[i]\n",
    "    s = ((x-6)**(1/2)-1)/(x-7)\n",
    "    print('given x ', x,'      slope was: ' \"{:.6f}\".format(s))"
   ]
  },
  {
   "cell_type": "code",
   "execution_count": 92,
   "metadata": {},
   "outputs": [
    {
     "data": {
      "text/plain": [
       "3.999999999999999"
      ]
     },
     "execution_count": 92,
     "metadata": {},
     "output_type": "execute_result"
    }
   ],
   "source": [
    "import numpy as np\n",
    "((3*np.sin(np.pi)+2*np.cos(np.pi)) - (3*np.sin(np.pi*2)+2*np.cos(np.pi*2)))/(1-2)"
   ]
  },
  {
   "cell_type": "code",
   "execution_count": 93,
   "metadata": {},
   "outputs": [
    {
     "data": {
      "text/plain": [
       "-8.291640157151498"
      ]
     },
     "execution_count": 93,
     "metadata": {},
     "output_type": "execute_result"
    }
   ],
   "source": [
    "((3*np.sin(np.pi)+2*np.cos(np.pi)) - (3*np.sin(np.pi*1.1)+2*np.cos(np.pi*1.1)))/(1-1.1)"
   ]
  },
  {
   "cell_type": "code",
   "execution_count": 94,
   "metadata": {},
   "outputs": [
    {
     "data": {
      "text/plain": [
       "-9.324539796584776"
      ]
     },
     "execution_count": 94,
     "metadata": {},
     "output_type": "execute_result"
    }
   ],
   "source": [
    "((3*np.sin(np.pi)+2*np.cos(np.pi)) - (3*np.sin(np.pi*1.01)+2*np.cos(np.pi*1.01)))/(1-1.01)"
   ]
  },
  {
   "cell_type": "code",
   "execution_count": 95,
   "metadata": {},
   "outputs": [
    {
     "data": {
      "text/plain": [
       "-9.4148928613557"
      ]
     },
     "execution_count": 95,
     "metadata": {},
     "output_type": "execute_result"
    }
   ],
   "source": [
    "((3*np.sin(np.pi)+2*np.cos(np.pi)) - (3*np.sin(np.pi*1.001)+2*np.cos(np.pi*1.001)))/(1-1.001)"
   ]
  },
  {
   "cell_type": "code",
   "execution_count": 1,
   "metadata": {},
   "outputs": [
    {
     "name": "stdout",
     "output_type": "stream",
     "text": [
      "2.71896\n",
      "2.86797\n",
      "2.71828\n",
      "2.71152\n",
      "2.65330\n",
      "2.00388\n",
      "2.00000\n"
     ]
    }
   ],
   "source": [
    "numbers = [-0.0005, -0.1, 0.000000005, 0.005, 0.05, 0.99, 1]\n",
    "for i in range(len(numbers)):\n",
    "    x = numbers[i]\n",
    "    y = (1+x)**(1/x)\n",
    "    print(\"{:.5f}\".format(y))\n"
   ]
  },
  {
   "cell_type": "code",
   "execution_count": 2,
   "metadata": {},
   "outputs": [
    {
     "data": {
      "text/plain": [
       "0.25"
      ]
     },
     "execution_count": 2,
     "metadata": {},
     "output_type": "execute_result"
    }
   ],
   "source": [
    "x = -1\n",
    "4**(1/x)"
   ]
  },
  {
   "cell_type": "code",
   "execution_count": 112,
   "metadata": {},
   "outputs": [
    {
     "name": "stdout",
     "output_type": "stream",
     "text": [
      "0.16667\n",
      "0.16713\n",
      "0.16667\n",
      "0.16664\n",
      "0.16644\n",
      "0.16228\n"
     ]
    }
   ],
   "source": [
    "numbers = [-0.0005, -0.1, 0.000000005, 0.005, 0.05, 1]\n",
    "for i in range(len(numbers)):\n",
    "    x = numbers[i]\n",
    "    y = ((x+9)**(1/2)-3)/x\n",
    "    print(\"{:.5f}\".format(y))"
   ]
  },
  {
   "cell_type": "code",
   "execution_count": 118,
   "metadata": {},
   "outputs": [
    {
     "name": "stdout",
     "output_type": "stream",
     "text": [
      "1.1 5.44566\n",
      "1.05 4.65810\n",
      "1.01 4.12222\n",
      "1.00001 4.00012\n",
      "0.99 3.88218\n",
      "0.95 3.45210\n",
      "0.9 2.99754\n"
     ]
    }
   ],
   "source": [
    "numbers = [1.1, 1.05, 1.01, 1.00001, 0.99, 0.95, 0.9]\n",
    "for i in range(len(numbers)):\n",
    "    x = numbers[i]\n",
    "    y = (x**8 - 1)/(x**2 - 1)\n",
    "    print(x, \"{:.5f}\".format(y))"
   ]
  },
  {
   "cell_type": "code",
   "execution_count": 120,
   "metadata": {},
   "outputs": [
    {
     "name": "stdout",
     "output_type": "stream",
     "text": [
      "9.5 0.542857\n",
      "9.1 0.532164\n",
      "9.05 0.530792\n",
      "9.01 0.529688\n",
      "9.005 0.529550\n",
      "9.001 0.529439\n",
      "8.9 0.526627\n",
      "8.95 0.528024\n",
      "8.99 0.529135\n",
      "8.995 0.529273\n",
      "8.999 0.529384\n"
     ]
    }
   ],
   "source": [
    "numbers = [9.5, 9.1, 9.05, 9.01, 9.005, 9.001, 8.9, 8.95, 8.99, 8.995, 8.999]\n",
    "for i in range(len(numbers)):\n",
    "    x = numbers[i]\n",
    "    y = (x**2 - 9*x)/(x**2 - x - 72)\n",
    "    print(x, \"{:.6f}\".format(y))"
   ]
  },
  {
   "cell_type": "code",
   "execution_count": 1,
   "metadata": {},
   "outputs": [
    {
     "name": "stdout",
     "output_type": "stream",
     "text": [
      "x: -4.1 y: -9.000000000000036\n",
      "x: -4.01 y: -99.00000000000213\n",
      "x: -4.00001 y: -99999.00000378577\n",
      "x: -4.000000001 y: -999999916.2596358\n"
     ]
    }
   ],
   "source": [
    "x = [-4.1, -4.01, -4.00001, -4.000000001]\n",
    "for x in x:\n",
    "    y = (x+5)/(x+4)\n",
    "    print(\"x:\", x, \"y:\", y)"
   ]
  },
  {
   "cell_type": "code",
   "execution_count": 2,
   "metadata": {},
   "outputs": [
    {
     "data": {
      "text/plain": [
       "-4.000000001"
      ]
     },
     "execution_count": 2,
     "metadata": {},
     "output_type": "execute_result"
    }
   ],
   "source": [
    "x"
   ]
  },
  {
   "cell_type": "code",
   "execution_count": 7,
   "metadata": {},
   "outputs": [
    {
     "name": "stdout",
     "output_type": "stream",
     "text": [
      "x was , -0.1 and y is  1.5237181172403307\n",
      "x was , -0.001 and y is  1.7499763751012811\n",
      "x was , -0.0001 and y is  1.74999976375001\n",
      "x was , 0.1 and y is  1.5237181172403307\n",
      "x was , 0.001 and y is  1.7499763751012811\n",
      "x was , 0.0001 and y is  1.74999976375001\n",
      "x was , 1e-08 and y is  1.749999999999998\n"
     ]
    }
   ],
   "source": [
    "import numpy as np\n",
    "values = [-0.1, -0.001, -0.0001, 0.1, 0.001, 0.0001, 0.00000001]\n",
    "for i in range(len(values)):\n",
    "    x = values[i]\n",
    "    y = np.sin(x * 7) / np.tan(x * 4)\n",
    "    print('x was ,', x, 'and y is ', y)"
   ]
  },
  {
   "cell_type": "code",
   "execution_count": 10,
   "metadata": {},
   "outputs": [
    {
     "name": "stdout",
     "output_type": "stream",
     "text": [
      "x was , 1 and y is  0.5\n",
      "x was , 2 and y is  1.0\n",
      "x was , 3 and y is  1.125\n",
      "x was , 5 and y is  0.78125\n",
      "x was , 6 and y is  0.5625\n",
      "x was , 70 and y is  4.150461441546072e-18\n",
      "x was , 700 and y is  9.315348674846283e-206\n",
      "x was , 7000000 and y is  0.0\n"
     ]
    }
   ],
   "source": [
    "input_val = [1, 2, 3, 5, 6, 70, 700, 7000000]\n",
    "for i in range(len(input_val)):\n",
    "    x = input_val[i]\n",
    "    y = (x ** 2)/ (2 ** x)\n",
    "    print('x was ,', x, 'and y is ', y)"
   ]
  },
  {
   "cell_type": "markdown",
   "metadata": {},
   "source": [
    "The cost (in dollars) of producing x units of a certain commodity is\n",
    "C(x) = 100 + 50x - 0.02x^2. Find the average rate of change of C with respect to x when the production level is changed from 100 to 105. Find the instantaneous rate of change of C with respect to x when and interpret the value of it."
   ]
  },
  {
   "cell_type": "code",
   "execution_count": null,
   "metadata": {},
   "outputs": [],
   "source": []
  },
  {
   "cell_type": "code",
   "execution_count": null,
   "metadata": {},
   "outputs": [],
   "source": []
  },
  {
   "cell_type": "code",
   "execution_count": null,
   "metadata": {},
   "outputs": [],
   "source": []
  },
  {
   "cell_type": "code",
   "execution_count": null,
   "metadata": {},
   "outputs": [],
   "source": []
  },
  {
   "cell_type": "code",
   "execution_count": 11,
   "metadata": {},
   "outputs": [],
   "source": [
    "x_1 = 100\n",
    "x_2 = 105\n",
    "x_3 = 101\n",
    "C_100 = 100 + 50*x_1 - 0.02 * x_1 ** 2\n",
    "C_105 = 100 + 50*x_2 - 0.02 * x_2 ** 2\n",
    "C_101 = 100 + 50*x_3 - 0.02 * x_3 ** 2"
   ]
  },
  {
   "cell_type": "code",
   "execution_count": 12,
   "metadata": {},
   "outputs": [
    {
     "data": {
      "text/plain": [
       "4945.98"
      ]
     },
     "execution_count": 12,
     "metadata": {},
     "output_type": "execute_result"
    }
   ],
   "source": [
    "C_101"
   ]
  },
  {
   "cell_type": "code",
   "execution_count": 13,
   "metadata": {},
   "outputs": [
    {
     "data": {
      "text/plain": [
       "4900.0"
      ]
     },
     "execution_count": 13,
     "metadata": {},
     "output_type": "execute_result"
    }
   ],
   "source": [
    "C_100"
   ]
  },
  {
   "cell_type": "code",
   "execution_count": 14,
   "metadata": {},
   "outputs": [
    {
     "data": {
      "text/plain": [
       "5129.5"
      ]
     },
     "execution_count": 14,
     "metadata": {},
     "output_type": "execute_result"
    }
   ],
   "source": [
    "C_105"
   ]
  },
  {
   "cell_type": "code",
   "execution_count": 15,
   "metadata": {},
   "outputs": [
    {
     "data": {
      "text/plain": [
       "45.9"
      ]
     },
     "execution_count": 15,
     "metadata": {},
     "output_type": "execute_result"
    }
   ],
   "source": [
    "avg = (C_105 - C_100)/(x_2 - x_1)\n",
    "avg"
   ]
  },
  {
   "cell_type": "code",
   "execution_count": 16,
   "metadata": {},
   "outputs": [
    {
     "data": {
      "text/plain": [
       "45.97999999999956"
      ]
     },
     "execution_count": 16,
     "metadata": {},
     "output_type": "execute_result"
    }
   ],
   "source": [
    "inst = (C_101 - C_100)\n",
    "inst"
   ]
  },
  {
   "cell_type": "code",
   "execution_count": null,
   "metadata": {},
   "outputs": [],
   "source": []
  },
  {
   "cell_type": "code",
   "execution_count": null,
   "metadata": {},
   "outputs": [],
   "source": []
  },
  {
   "cell_type": "code",
   "execution_count": null,
   "metadata": {},
   "outputs": [],
   "source": []
  },
  {
   "cell_type": "code",
   "execution_count": null,
   "metadata": {},
   "outputs": [],
   "source": []
  },
  {
   "cell_type": "code",
   "execution_count": 24,
   "metadata": {},
   "outputs": [],
   "source": [
    "x1=150"
   ]
  },
  {
   "cell_type": "code",
   "execution_count": 38,
   "metadata": {},
   "outputs": [
    {
     "data": {
      "text/plain": [
       "7137.5"
      ]
     },
     "execution_count": 38,
     "metadata": {},
     "output_type": "execute_result"
    }
   ],
   "source": [
    "c_150 = 5000+3*x+0.03*(x**2)+0.0003*(x**3)\n",
    "c_150"
   ]
  },
  {
   "cell_type": "code",
   "execution_count": 39,
   "metadata": {},
   "outputs": [],
   "source": [
    "x2=151"
   ]
  },
  {
   "cell_type": "code",
   "execution_count": 40,
   "metadata": {},
   "outputs": [
    {
     "data": {
      "text/plain": [
       "7169.9153"
      ]
     },
     "execution_count": 40,
     "metadata": {},
     "output_type": "execute_result"
    }
   ],
   "source": [
    "c_151 = 5000+ 3*x2 + 0.03*(x2**2)+0.0003*(x2**3)\n",
    "c_151"
   ]
  },
  {
   "cell_type": "code",
   "execution_count": 41,
   "metadata": {},
   "outputs": [
    {
     "data": {
      "text/plain": [
       "32.41529999999966"
      ]
     },
     "execution_count": 41,
     "metadata": {},
     "output_type": "execute_result"
    }
   ],
   "source": [
    "d = c_151 - c_150\n",
    "d"
   ]
  },
  {
   "cell_type": "code",
   "execution_count": null,
   "metadata": {},
   "outputs": [],
   "source": []
  }
 ],
 "metadata": {
  "kernelspec": {
   "display_name": "Python 3",
   "language": "python",
   "name": "python3"
  },
  "language_info": {
   "codemirror_mode": {
    "name": "ipython",
    "version": 3
   },
   "file_extension": ".py",
   "mimetype": "text/x-python",
   "name": "python",
   "nbconvert_exporter": "python",
   "pygments_lexer": "ipython3",
   "version": "3.7.3"
  }
 },
 "nbformat": 4,
 "nbformat_minor": 2
}
