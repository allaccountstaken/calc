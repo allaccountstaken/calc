{
 "cells": [
  {
   "cell_type": "markdown",
   "metadata": {},
   "source": [
    "## Fining the slope of tangent"
   ]
  },
  {
   "cell_type": "code",
   "execution_count": 82,
   "metadata": {},
   "outputs": [
    {
     "name": "stdout",
     "output_type": "stream",
     "text": [
      "x was 7.9 M_PQ is  3.3333333\n",
      "x was 7.99 M_PQ is  3.0303030\n",
      "x was 7.999 M_PQ is  3.0030030\n",
      "x was 7.9999 M_PQ is  3.0003000\n",
      "x was 8.1 M_PQ is  2.7272727\n",
      "x was 8.01 M_PQ is  2.9702970\n",
      "x was 8.001 M_PQ is  2.9970030\n",
      "x was 8.0001 M_PQ is  2.9997000\n"
     ]
    }
   ],
   "source": [
    "# y = 3/(7 -x) goies through point P(8, -3) => \n",
    "# M_PQ = (3/(7-x) + 3 / x - 8)\n",
    "my_input = [7.9, 7.99, 7.999, 7.9999, 8.1, 8.01, 8.001, 8.0001]\n",
    "for i in range(len(my_input)):\n",
    "    x = my_input[i]\n",
    "    s = ((3/(7-x)) + 3) / (x - 8)\n",
    "    print('x was', x, 'M_PQ is ', \"{:.7f}\".format(s))"
   ]
  },
  {
   "cell_type": "code",
   "execution_count": 83,
   "metadata": {},
   "outputs": [
    {
     "name": "stdout",
     "output_type": "stream",
     "text": [
      "given x  6.5       slope was: 0.585786\n",
      "given x  6.9       slope was: 0.513167\n",
      "given x  6.99       slope was: 0.501256\n",
      "given x  6.999       slope was: 0.500125\n",
      "given x  7.5       slope was: 0.449490\n",
      "given x  7.1       slope was: 0.488088\n",
      "given x  7.01       slope was: 0.498756\n",
      "given x  7.001       slope was: 0.499875\n"
     ]
    }
   ],
   "source": [
    "inputs = [6.5, 6.9, 6.99, 6.999, 7.5, 7.1, 7.01, 7.001]\n",
    "for i in range(len(inputs)):\n",
    "    x = inputs[i]\n",
    "    s = ((x-6)**(1/2)-1)/(x-7)\n",
    "    print('given x ', x,'      slope was: ' \"{:.6f}\".format(s))"
   ]
  },
  {
   "cell_type": "code",
   "execution_count": 92,
   "metadata": {},
   "outputs": [
    {
     "data": {
      "text/plain": [
       "3.999999999999999"
      ]
     },
     "execution_count": 92,
     "metadata": {},
     "output_type": "execute_result"
    }
   ],
   "source": [
    "import numpy as np\n",
    "((3*np.sin(np.pi)+2*np.cos(np.pi)) - (3*np.sin(np.pi*2)+2*np.cos(np.pi*2)))/(1-2)"
   ]
  },
  {
   "cell_type": "code",
   "execution_count": 93,
   "metadata": {},
   "outputs": [
    {
     "data": {
      "text/plain": [
       "-8.291640157151498"
      ]
     },
     "execution_count": 93,
     "metadata": {},
     "output_type": "execute_result"
    }
   ],
   "source": [
    "((3*np.sin(np.pi)+2*np.cos(np.pi)) - (3*np.sin(np.pi*1.1)+2*np.cos(np.pi*1.1)))/(1-1.1)"
   ]
  },
  {
   "cell_type": "code",
   "execution_count": 94,
   "metadata": {},
   "outputs": [
    {
     "data": {
      "text/plain": [
       "-9.324539796584776"
      ]
     },
     "execution_count": 94,
     "metadata": {},
     "output_type": "execute_result"
    }
   ],
   "source": [
    "((3*np.sin(np.pi)+2*np.cos(np.pi)) - (3*np.sin(np.pi*1.01)+2*np.cos(np.pi*1.01)))/(1-1.01)"
   ]
  },
  {
   "cell_type": "code",
   "execution_count": 95,
   "metadata": {},
   "outputs": [
    {
     "data": {
      "text/plain": [
       "-9.4148928613557"
      ]
     },
     "execution_count": 95,
     "metadata": {},
     "output_type": "execute_result"
    }
   ],
   "source": [
    "((3*np.sin(np.pi)+2*np.cos(np.pi)) - (3*np.sin(np.pi*1.001)+2*np.cos(np.pi*1.001)))/(1-1.001)"
   ]
  },
  {
   "cell_type": "code",
   "execution_count": 1,
   "metadata": {},
   "outputs": [
    {
     "name": "stdout",
     "output_type": "stream",
     "text": [
      "2.71896\n",
      "2.86797\n",
      "2.71828\n",
      "2.71152\n",
      "2.65330\n",
      "2.00388\n",
      "2.00000\n"
     ]
    }
   ],
   "source": [
    "numbers = [-0.0005, -0.1, 0.000000005, 0.005, 0.05, 0.99, 1]\n",
    "for i in range(len(numbers)):\n",
    "    x = numbers[i]\n",
    "    y = (1+x)**(1/x)\n",
    "    print(\"{:.5f}\".format(y))\n"
   ]
  },
  {
   "cell_type": "code",
   "execution_count": 2,
   "metadata": {},
   "outputs": [
    {
     "data": {
      "text/plain": [
       "0.25"
      ]
     },
     "execution_count": 2,
     "metadata": {},
     "output_type": "execute_result"
    }
   ],
   "source": [
    "x = -1\n",
    "4**(1/x)"
   ]
  },
  {
   "cell_type": "code",
   "execution_count": 112,
   "metadata": {},
   "outputs": [
    {
     "name": "stdout",
     "output_type": "stream",
     "text": [
      "0.16667\n",
      "0.16713\n",
      "0.16667\n",
      "0.16664\n",
      "0.16644\n",
      "0.16228\n"
     ]
    }
   ],
   "source": [
    "numbers = [-0.0005, -0.1, 0.000000005, 0.005, 0.05, 1]\n",
    "for i in range(len(numbers)):\n",
    "    x = numbers[i]\n",
    "    y = ((x+9)**(1/2)-3)/x\n",
    "    print(\"{:.5f}\".format(y))"
   ]
  },
  {
   "cell_type": "code",
   "execution_count": 118,
   "metadata": {},
   "outputs": [
    {
     "name": "stdout",
     "output_type": "stream",
     "text": [
      "1.1 5.44566\n",
      "1.05 4.65810\n",
      "1.01 4.12222\n",
      "1.00001 4.00012\n",
      "0.99 3.88218\n",
      "0.95 3.45210\n",
      "0.9 2.99754\n"
     ]
    }
   ],
   "source": [
    "numbers = [1.1, 1.05, 1.01, 1.00001, 0.99, 0.95, 0.9]\n",
    "for i in range(len(numbers)):\n",
    "    x = numbers[i]\n",
    "    y = (x**8 - 1)/(x**2 - 1)\n",
    "    print(x, \"{:.5f}\".format(y))"
   ]
  },
  {
   "cell_type": "code",
   "execution_count": 120,
   "metadata": {},
   "outputs": [
    {
     "name": "stdout",
     "output_type": "stream",
     "text": [
      "9.5 0.542857\n",
      "9.1 0.532164\n",
      "9.05 0.530792\n",
      "9.01 0.529688\n",
      "9.005 0.529550\n",
      "9.001 0.529439\n",
      "8.9 0.526627\n",
      "8.95 0.528024\n",
      "8.99 0.529135\n",
      "8.995 0.529273\n",
      "8.999 0.529384\n"
     ]
    }
   ],
   "source": [
    "numbers = [9.5, 9.1, 9.05, 9.01, 9.005, 9.001, 8.9, 8.95, 8.99, 8.995, 8.999]\n",
    "for i in range(len(numbers)):\n",
    "    x = numbers[i]\n",
    "    y = (x**2 - 9*x)/(x**2 - x - 72)\n",
    "    print(x, \"{:.6f}\".format(y))"
   ]
  },
  {
   "cell_type": "code",
   "execution_count": 1,
   "metadata": {},
   "outputs": [
    {
     "name": "stdout",
     "output_type": "stream",
     "text": [
      "x: -4.1 y: -9.000000000000036\n",
      "x: -4.01 y: -99.00000000000213\n",
      "x: -4.00001 y: -99999.00000378577\n",
      "x: -4.000000001 y: -999999916.2596358\n"
     ]
    }
   ],
   "source": [
    "x = [-4.1, -4.01, -4.00001, -4.000000001]\n",
    "for x in x:\n",
    "    y = (x+5)/(x+4)\n",
    "    print(\"x:\", x, \"y:\", y)"
   ]
  },
  {
   "cell_type": "code",
   "execution_count": 2,
   "metadata": {},
   "outputs": [
    {
     "data": {
      "text/plain": [
       "-4.000000001"
      ]
     },
     "execution_count": 2,
     "metadata": {},
     "output_type": "execute_result"
    }
   ],
   "source": [
    "x"
   ]
  },
  {
   "cell_type": "code",
   "execution_count": null,
   "metadata": {},
   "outputs": [],
   "source": []
  }
 ],
 "metadata": {
  "kernelspec": {
   "display_name": "Python 3",
   "language": "python",
   "name": "python3"
  },
  "language_info": {
   "codemirror_mode": {
    "name": "ipython",
    "version": 3
   },
   "file_extension": ".py",
   "mimetype": "text/x-python",
   "name": "python",
   "nbconvert_exporter": "python",
   "pygments_lexer": "ipython3",
   "version": "3.7.3"
  }
 },
 "nbformat": 4,
 "nbformat_minor": 2
}
